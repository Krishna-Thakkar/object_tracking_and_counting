{
 "cells": [
  {
   "cell_type": "code",
   "execution_count": null,
   "metadata": {},
   "outputs": [],
   "source": [
    "from IPython import display\n",
    "display.clear_output()\n",
    "\n",
    "import ultralytics\n",
    "ultralytics.checks()"
   ]
  },
  {
   "cell_type": "code",
   "execution_count": null,
   "metadata": {},
   "outputs": [],
   "source": [
    "from IPython import display\n",
    "display.clear_output()\n",
    "\n",
    "\n",
    "import supervision as sv\n",
    "print(\"supervision.__version__:\", sv.__version__)"
   ]
  },
  {
   "cell_type": "code",
   "execution_count": null,
   "metadata": {},
   "outputs": [],
   "source": [
    "from ultralytics import YOLO"
   ]
  },
  {
   "cell_type": "code",
   "execution_count": null,
   "metadata": {},
   "outputs": [],
   "source": [
    "model = YOLO('best.pt')"
   ]
  },
  {
   "cell_type": "code",
   "execution_count": null,
   "metadata": {},
   "outputs": [],
   "source": [
    "# # dict maping class_id to class_name\n",
    "# CLASS_NAMES_DICT = model.model.names\n",
    "# print(CLASS_NAMES_DICT)\n",
    "# # class_ids of interest - person\n",
    "# selected_classes = [3]"
   ]
  },
  {
   "cell_type": "code",
   "execution_count": null,
   "metadata": {},
   "outputs": [],
   "source": [
    "import numpy as np"
   ]
  },
  {
   "cell_type": "code",
   "execution_count": null,
   "metadata": {},
   "outputs": [],
   "source": [
    "# # create frame generator\n",
    "# generator = sv.get_video_frames_generator('vid1.mp4')\n",
    "# # create instance of BoxAnnotator\n",
    "# box_annotator = sv.BoxAnnotator(thickness=4, text_thickness=4, text_scale=2)\n",
    "# # acquire first video frame\n",
    "# iterator = iter(generator)\n",
    "# frame = next(iterator)\n",
    "# # model prediction on single frame and conversion to supervision Detections\n",
    "# results = model(frame, verbose=False, conf=0.7)[0]\n",
    "\n",
    "# # convert to Detections\n",
    "# detections = sv.Detections.from_ultralytics(results)\n",
    "# # only consider class id from selected_classes define above\n",
    "# detections = detections[np.isin(detections.class_id, selected_classes)]\n",
    "\n",
    "# # format custom labels\n",
    "# labels = [\n",
    "#     f\"{CLASS_NAMES_DICT[class_id]} {confidence:0.2f}\"\n",
    "#     for _, _, confidence, class_id, _ in detections\n",
    "# ]\n",
    "\n",
    "# # annotate and display frame\n",
    "# anotated_frame=box_annotator.annotate(scene=frame, detections=detections, labels=labels)\n",
    "\n",
    "# %matplotlib inline\n",
    "# sv.plot_image(anotated_frame, (16,16))"
   ]
  },
  {
   "cell_type": "code",
   "execution_count": null,
   "metadata": {},
   "outputs": [],
   "source": [
    "from ultralytics import YOLO\n",
    "from custom_object_counter import * \n",
    "import cv2\n",
    "\n",
    "model = YOLO('best.pt')\n",
    "cap = cv2.VideoCapture('/home/mind/projects/projects/object_counting_misc/videos/vid1.avi')\n",
    "# assert cap.isOpened(), \"Error reading video file\"\n",
    "\n",
    "video_writer = cv2.VideoWriter(\"/home/mind/projects/projects/object_counting_misc/output_videos/output-vid1.avi\",                               \n",
    "                               cv2.VideoWriter_fourcc(*'mp4v'),\n",
    "                               int(cap.get(5)),\n",
    "                               (int(cap.get(3)), int(cap.get(4))))\n",
    "\n",
    "classes_to_count = [0, 1, 2, 3, 4]\n",
    "counter = ObjectCounter()  # Init Object Counter\n",
    "# region_points = [(20, 400), (1080, 404), (1080, 360), (20, 360)]\n",
    "region_points = [(0, 0), (0, 0), (0, 0), (0, 0)]\n",
    "counter.set_args(view_img=True,\n",
    "                 reg_pts=region_points,\n",
    "                 classes_names=model.model.names,\n",
    "                 draw_tracks=False)\n",
    "\n",
    "while cap.isOpened():\n",
    "  success, im0 = cap.read()\n",
    "  if not success:\n",
    "    print(\"Video frame is empty or video processing has been successfully completed.\")\n",
    "    break\n",
    "  tracks = model.track(im0, persist=True, show=False,\n",
    "                        classes=classes_to_count, conf=0.7, verbose=False)\n",
    "  # print(tracks)\n",
    "  im0 = counter.start_counting(im0, tracks)\n",
    "  video_writer.write(im0)\n",
    "\n",
    "video_writer.release()\n",
    "cv2.destroyAllWindows()"
   ]
  }
 ],
 "metadata": {
  "kernelspec": {
   "display_name": "object_tracking_and_counting_venv",
   "language": "python",
   "name": "python3"
  },
  "language_info": {
   "codemirror_mode": {
    "name": "ipython",
    "version": 3
   },
   "file_extension": ".py",
   "mimetype": "text/x-python",
   "name": "python",
   "nbconvert_exporter": "python",
   "pygments_lexer": "ipython3",
   "version": "3.10.13"
  }
 },
 "nbformat": 4,
 "nbformat_minor": 2
}
